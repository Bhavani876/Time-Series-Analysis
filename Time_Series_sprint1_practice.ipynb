{
 "cells": [
  {
   "cell_type": "code",
   "execution_count": 2,
   "id": "92490476",
   "metadata": {},
   "outputs": [],
   "source": [
    "import numpy as np\n",
    "import matplotlib.pyplot as plt\n",
    "from scipy.stats import chi2\n",
    "from scipy.stats import chi2_contingency\n",
    "from scipy.stats import norm\n"
   ]
  },
  {
   "cell_type": "markdown",
   "id": "7f68b10a",
   "metadata": {},
   "source": [
    "# Task 1"
   ]
  },
  {
   "cell_type": "code",
   "execution_count": 3,
   "id": "f9274eb3",
   "metadata": {},
   "outputs": [],
   "source": [
    "Obseverd_Frequency=[24,108,61,14]\n",
    "alpha=0.05\n",
    "n=len(Obseverd_Frequency)\n",
    "dof=n-1"
   ]
  },
  {
   "cell_type": "markdown",
   "id": "f9f91d59",
   "metadata": {},
   "source": [
    "# a.What is the null and alternative hypotheisi."
   ]
  },
  {
   "cell_type": "raw",
   "id": "d03f830c",
   "metadata": {},
   "source": [
    "Ho:If the customers in his city are satisfied with the supermarket's.\n",
    "Ha:If the customers in his city are not satisfied with the supermarket's."
   ]
  },
  {
   "cell_type": "markdown",
   "id": "f11098a8",
   "metadata": {},
   "source": [
    "# b.Using alpha=0.05, what is the critical value of the hypothesis test?"
   ]
  },
  {
   "cell_type": "code",
   "execution_count": 4,
   "id": "169c6eaa",
   "metadata": {},
   "outputs": [
    {
     "data": {
      "text/plain": [
       "7.814727903251179"
      ]
     },
     "execution_count": 4,
     "metadata": {},
     "output_type": "execute_result"
    }
   ],
   "source": [
    "pos_critical=chi2.ppf(1-alpha,dof)\n",
    "pos_critical"
   ]
  },
  {
   "cell_type": "markdown",
   "id": "ec8d0a8a",
   "metadata": {},
   "source": [
    "# c.What are the test statisticsfor the hypotheis test?"
   ]
  },
  {
   "cell_type": "code",
   "execution_count": 5,
   "id": "0fc2e82e",
   "metadata": {},
   "outputs": [
    {
     "data": {
      "text/plain": [
       "51.75"
      ]
     },
     "execution_count": 5,
     "metadata": {},
     "output_type": "execute_result"
    }
   ],
   "source": [
    "excepted_Frequency=sum(Obseverd_Frequency)/n\n",
    "excepted_Frequency"
   ]
  },
  {
   "cell_type": "code",
   "execution_count": 6,
   "id": "b7cf02db",
   "metadata": {},
   "outputs": [
    {
     "name": "stdout",
     "output_type": "stream",
     "text": [
      "ꭕ2-statistics = 105.21256038647343\n"
     ]
    }
   ],
   "source": [
    "chis = 0\n",
    "for x in Obseverd_Frequency:\n",
    "    chis = chis + (x - excepted_Frequency)**2/excepted_Frequency\n",
    "    \n",
    "print(\"ꭕ2-statistics =\", chis)"
   ]
  },
  {
   "cell_type": "code",
   "execution_count": 7,
   "id": "7d9af003",
   "metadata": {},
   "outputs": [
    {
     "data": {
      "text/plain": [
       "0.0"
      ]
     },
     "execution_count": 7,
     "metadata": {},
     "output_type": "execute_result"
    }
   ],
   "source": [
    "prob_value=norm.sf(abs(chis),dof)\n",
    "prob_value"
   ]
  },
  {
   "cell_type": "markdown",
   "id": "6c98222b",
   "metadata": {},
   "source": [
    "# d.Draw the conclusion for the hypotheis test.Sketch the graph and state your conclusion."
   ]
  },
  {
   "cell_type": "code",
   "execution_count": 8,
   "id": "8698c019",
   "metadata": {},
   "outputs": [
    {
     "data": {
      "text/plain": [
       "[<matplotlib.lines.Line2D at 0x1f85f7fdaf0>]"
      ]
     },
     "execution_count": 8,
     "metadata": {},
     "output_type": "execute_result"
    },
    {
     "data": {
      "image/png": "[encoded data removed]",
      "text/plain": [
       "<Figure size 640x480 with 1 Axes>"
      ]
     },
     "metadata": {},
     "output_type": "display_data"
    }
   ],
   "source": [
    "x=np.arange(0,50,0.01)\n",
    "plt.plot(x,chi2.pdf(x, dof))\n"
   ]
  },
  {
   "cell_type": "code",
   "execution_count": 17,
   "id": "36b22965",
   "metadata": {},
   "outputs": [
    {
     "name": "stdout",
     "output_type": "stream",
     "text": [
      "If the customers in his city are not satisfied with the supermarket(Reject Ho)\n"
     ]
    }
   ],
   "source": [
    "#interpretion\n",
    "if prob_value<alpha and abs(chis)>=pos_critical:\n",
    "    print('If the customers in his city are not satisfied with the supermarket(Reject Ho)')\n",
    "else:\n",
    "    print('If the customers in his city are satisfied with the supermarket(Accept Ho)')"
   ]
  },
  {
   "cell_type": "markdown",
   "id": "34cfb2a7",
   "metadata": {},
   "source": [
    "# Task 2"
   ]
  },
  {
   "cell_type": "markdown",
   "id": "efa7e355",
   "metadata": {},
   "source": [
    "# a.What is the null and alternative hypotheis?"
   ]
  },
  {
   "cell_type": "raw",
   "id": "f593889c",
   "metadata": {},
   "source": [
    "Null_Hypothesis=The Housing of bedrooms are uniformly disrtibuted.\n",
    "Alternative_Hypothesis=The Housing of bedrooms are not uniformly disrtibuted."
   ]
  },
  {
   "cell_type": "markdown",
   "id": "3b6407ce",
   "metadata": {},
   "source": [
    "# c.What is the test statistics for the hypothesis test?"
   ]
  },
  {
   "cell_type": "code",
   "execution_count": 11,
   "id": "cd3c79cf",
   "metadata": {},
   "outputs": [
    {
     "name": "stdout",
     "output_type": "stream",
     "text": [
      "statistics= 72.33176626617666\n",
      "probability= 1.9649727053475884e-16\n",
      "dof= 2\n",
      "excepted= [[ 66.48292108 137.48409894  70.03297998]\n",
      " [139.51707892 288.51590106 146.96702002]]\n"
     ]
    }
   ],
   "source": [
    "No_of_Storie=[[116,101,57],[90,325,160]]\n",
    "alpha=0.1\n",
    "statistics,proba,dof,excepted=chi2_contingency(No_of_Storie)\n",
    "print('statistics=',statistics)\n",
    "print('probability=',proba)\n",
    "print('dof=',dof)\n",
    "print('excepted=',excepted)"
   ]
  },
  {
   "cell_type": "code",
   "execution_count": 12,
   "id": "8c34e2a1",
   "metadata": {},
   "outputs": [],
   "source": [
    "#b.Using alpha=0.1,what is the critical value of the hypothesis test?"
   ]
  },
  {
   "cell_type": "code",
   "execution_count": 13,
   "id": "31d1f7a9",
   "metadata": {},
   "outputs": [
    {
     "name": "stdout",
     "output_type": "stream",
     "text": [
      "Probability 1.9649727053475884e-16, critical 72.33176626617666, alpha 0.1\n"
     ]
    }
   ],
   "source": [
    "critical  = chi2.ppf(1-alpha, dof)\n",
    "print(\"Probability {}, critical {}, alpha {}\".format(proba,statistics,alpha))\n"
   ]
  },
  {
   "cell_type": "code",
   "execution_count": 16,
   "id": "8069961a",
   "metadata": {},
   "outputs": [
    {
     "name": "stdout",
     "output_type": "stream",
     "text": [
      "The Housing of bedrooms are not uniformly disrtibuted (Reject Ho)\n"
     ]
    }
   ],
   "source": [
    "if proba<=alpha and abs(statistics)>=critical:\n",
    "    print('The Housing of bedrooms are not uniformly disrtibuted (Reject Ho)')\n",
    "else:\n",
    "     print('The Housing of bedrooms are uniformly disrtibuted (Accept Ho)')"
   ]
  },
  {
   "cell_type": "markdown",
   "id": "73452249",
   "metadata": {},
   "source": [
    "# d.Draw the conclusion for the hypothesis test.sketch the graph and state yuor conclusion."
   ]
  },
  {
   "cell_type": "code",
   "execution_count": 26,
   "id": "8c4cfb75",
   "metadata": {},
   "outputs": [
    {
     "data": {
      "text/plain": [
       "[<matplotlib.lines.Line2D at 0x2832fc06070>]"
      ]
     },
     "execution_count": 26,
     "metadata": {},
     "output_type": "execute_result"
    },
    {
     "data": {
      "image/png": "[encoded data removed]",
      "text/plain": [
       "<Figure size 640x480 with 1 Axes>"
      ]
     },
     "metadata": {},
     "output_type": "display_data"
    }
   ],
   "source": [
    "x = np.arange(0,30, 0.01)\n",
    "plt.plot(x, chi2.pdf(x, dof))"
   ]
  },
  {
   "cell_type": "code",
   "execution_count": null,
   "id": "fec5c260",
   "metadata": {},
   "outputs": [],
   "source": []
  },
  {
   "cell_type": "code",
   "execution_count": null,
   "id": "3fbea093",
   "metadata": {},
   "outputs": [],
   "source": []
  },
  {
   "cell_type": "code",
   "execution_count": null,
   "id": "e741a640",
   "metadata": {},
   "outputs": [],
   "source": []
  }
 ],
 "metadata": {
  "kernelspec": {
   "display_name": "Python 3 (ipykernel)",
   "language": "python",
   "name": "python3"
  },
  "language_info": {
   "codemirror_mode": {
    "name": "ipython",
    "version": 3
   },
   "file_extension": ".py",
   "mimetype": "text/x-python",
   "name": "python",
   "nbconvert_exporter": "python",
   "pygments_lexer": "ipython3",
   "version": "3.9.13"
  }
 },
 "nbformat": 4,
 "nbformat_minor": 5
}
